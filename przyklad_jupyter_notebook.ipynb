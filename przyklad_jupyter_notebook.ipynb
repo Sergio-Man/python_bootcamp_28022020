{
 "cells": [
  {
   "cell_type": "markdown",
   "metadata": {},
   "source": []
  },
  {
   "cell_type": "markdown",
   "metadata": {},
   "source": [
    "Shift + enter - wykonanie komorki i przejscie do nastepnek\n",
    "ctrl + enter - wykonanie w miejscu\n",
    "shift + enter - wykonanie komorki i otworzenie nowej\n",
    "\n",
    "## nagłówki:\n",
    "### h3\n",
    "#### h4\n",
    "##### h5\n",
    "###### h6\n",
    "\n",
    "## innne przydatne komendy\n",
    "\n",
    "Tryb polecen - ma swiecic sie na niebiesko anie na zielono zeby dzialaly nizsze polecenia\n",
    "a - dodanie komorki z gory\n",
    "b - dodanie komorki ponizej\n",
    "dd - usuniecia komorki\n",
    "m - zamiana komorki na markdown\n",
    "y - zamiana na komorke typu code"
   ]
  },
  {
   "cell_type": "code",
   "execution_count": 2,
   "metadata": {},
   "outputs": [],
   "source": [
    "def dodaj(a, b):\n",
    "    return a+b+10"
   ]
  },
  {
   "cell_type": "code",
   "execution_count": 9,
   "metadata": {},
   "outputs": [
    {
     "data": {
      "text/plain": [
       "40"
      ]
     },
     "execution_count": 9,
     "metadata": {},
     "output_type": "execute_result"
    }
   ],
   "source": [
    "dodaj(10,20)"
   ]
  }
 ],
 "metadata": {
  "kernelspec": {
   "display_name": "Python 3",
   "language": "python",
   "name": "python3"
  },
  "language_info": {
   "codemirror_mode": {
    "name": "ipython",
    "version": 3
   },
   "file_extension": ".py",
   "mimetype": "text/x-python",
   "name": "python",
   "nbconvert_exporter": "python",
   "pygments_lexer": "ipython3",
   "version": "3.8.2"
  }
 },
 "nbformat": 4,
 "nbformat_minor": 4
}
