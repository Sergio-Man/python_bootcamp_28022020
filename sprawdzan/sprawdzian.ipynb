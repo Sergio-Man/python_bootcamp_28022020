{
 "cells": [
  {
   "cell_type": "markdown",
   "metadata": {},
   "source": [
    "imię: Sergiusz\n",
    "\n",
    "nazwisko: Prytuliak"
   ]
  },
  {
   "cell_type": "markdown",
   "metadata": {},
   "source": [
    "### zad 1. \n",
    "\n",
    "Wymień znane Ci struktury danych w Pythonie. Które z nich są mutowalne a które nie?"
   ]
  },
  {
   "cell_type": "markdown",
   "metadata": {},
   "source": [
    "tuple - nie mutowalne\n",
    "list - mutowalne\n",
    "dict - mutowalne\n",
    "set - nie mutowalne"
   ]
  },
  {
   "cell_type": "markdown",
   "metadata": {},
   "source": [
    "### zad 2. \n",
    "\n",
    "Czy umiesz wytłumaczyć co to jest sekwencja? Jakie sekwencje znasz?"
   ]
  },
  {
   "cell_type": "markdown",
   "metadata": {},
   "source": [
    "sekwencja - to porządek liczenia\n",
    "range(poczatek, koniec, krok)"
   ]
  },
  {
   "cell_type": "markdown",
   "metadata": {},
   "source": [
    "### zad 3.\n",
    "\n",
    "Wybierz co trzeci znak z napisu \"abrakadabra\". Przypisz go do zmiennej `tekst`"
   ]
  },
  {
   "cell_type": "code",
   "execution_count": 9,
   "metadata": {},
   "outputs": [
    {
     "name": "stdout",
     "output_type": "stream",
     "text": [
      "rab\n"
     ]
    }
   ],
   "source": [
    "napis = \"abrakadabra\"\n",
    "tekst = napis[2::3]\n",
    "print(tekst)"
   ]
  },
  {
   "cell_type": "markdown",
   "metadata": {},
   "source": [
    "### zad 4.\n",
    "\n",
    "Zaprezentuj jak działa wyrażenie warunkowe. Postaraj się o przykład pokazujący wszystkie znane Ci aspekty wyrażenia warunkowego\n"
   ]
  },
  {
   "cell_type": "code",
   "execution_count": 11,
   "metadata": {},
   "outputs": [
    {
     "name": "stdout",
     "output_type": "stream",
     "text": [
      "Nie spewnia\n"
     ]
    }
   ],
   "source": [
    "liczba = 10\n",
    "if liczba > 9 and liczba < 11 and liczba != 9 and liczba % 2 == 0:\n",
    "    print(\"Liczba spewnia każdy warunek\")\n",
    "else:\n",
    "    print(\"Liczba nie spewnia wszystkich warunków\")"
   ]
  },
  {
   "cell_type": "markdown",
   "metadata": {},
   "source": [
    "### zad 5.\n",
    "\n",
    "Zaproponuj przykład użycia pętli `while`. Np. do odliczania od 10 do 0 z pomienięciem 5."
   ]
  },
  {
   "cell_type": "code",
   "execution_count": 14,
   "metadata": {},
   "outputs": [
    {
     "name": "stdout",
     "output_type": "stream",
     "text": [
      "10\n",
      "9\n",
      "8\n",
      "7\n",
      "6\n",
      "4\n",
      "3\n",
      "2\n",
      "1\n"
     ]
    }
   ],
   "source": [
    "i = 10\n",
    "while i > 0:\n",
    "    if i == 5:\n",
    "        i-=1\n",
    "        continue\n",
    "    print(i)\n",
    "    i-=1\n",
    "    if i == 0:\n",
    "        break"
   ]
  },
  {
   "cell_type": "markdown",
   "metadata": {},
   "source": [
    "### zad 6. \n",
    "\n",
    "Zaproponuj przykład użycia pętli `for`. W przykładzie użyj słownika i przeiteruj po elementach słownika (`items`)"
   ]
  },
  {
   "cell_type": "code",
   "execution_count": 28,
   "metadata": {},
   "outputs": [
    {
     "name": "stdout",
     "output_type": "stream",
     "text": [
      "pies\n",
      "kot\n",
      "ptak\n"
     ]
    }
   ],
   "source": [
    "items = {\n",
    "    \"pies\": \"Arnold\",\n",
    "    \"kot\": \"Monia\",\n",
    "    \"ptak\": \"Gosza\"\n",
    "}\n",
    "\n",
    "for s in items:\n",
    "    print(s)"
   ]
  },
  {
   "cell_type": "markdown",
   "metadata": {},
   "source": [
    "### zad 7.\n",
    "\n",
    "Zdefiniuj funkcję `power`, która przyjmie jeden lub dwa argumenty a i b. Argument b powinien przyjmować wartość domyślną tak, by poniższe wywałania miały sens:\n",
    "    \n",
    "    power(2, 3) == 8\n",
    "    power(4) == 16"
   ]
  },
  {
   "cell_type": "code",
   "execution_count": 30,
   "metadata": {},
   "outputs": [
    {
     "name": "stdout",
     "output_type": "stream",
     "text": [
      "8\n",
      "16\n"
     ]
    }
   ],
   "source": [
    "def power(a, b=2):\n",
    "    suma = a**b\n",
    "    return suma\n",
    "print(power(2,3))\n",
    "print(power(4))"
   ]
  },
  {
   "cell_type": "markdown",
   "metadata": {},
   "source": [
    "### zad 8. \n",
    "\n",
    "napisz funkcję, która przyjmie dowolną liczbę argumentów pozycyjnych i kluczowych i wypisze je na ekranie"
   ]
  },
  {
   "cell_type": "code",
   "execution_count": 31,
   "metadata": {},
   "outputs": [
    {
     "name": "stdout",
     "output_type": "stream",
     "text": [
      "('Argumen 1',)\n",
      "{'kwar': 'Argument 2'}\n"
     ]
    }
   ],
   "source": [
    "def moja_funkcja(*args, **kwargs):\n",
    "    print(args)\n",
    "    print(kwargs)\n",
    "moja_funkcja(\"Argumen 1\", kwar=\"Argument 2\")"
   ]
  },
  {
   "cell_type": "markdown",
   "metadata": {},
   "source": [
    "### zad 9.\n",
    "\n",
    "Zdefiniuj klasę `Osoba`, która będzie reprezentowała osobę. Osoba posiada atrybuty name, last_name, birth_year\n",
    "posiada też atrybut dynamiczny - age, który wylicza wiek na podstawie aktualnego roku i birth_year. Skorzystaj z 'datetime'. Dodatkowo klasa ta powinna mieć metodę info, która wypisz imie, nazwisko i wiek\n",
    "\n",
    "    osoba = Osoba(\"Johny\", \"Bravo\", 2000)\n",
    "    assert osoba.age == 20\n",
    "    assert osoba.info == \"Johny Bravo (20)\"\n"
   ]
  },
  {
   "cell_type": "code",
   "execution_count": 8,
   "metadata": {
    "scrolled": true
   },
   "outputs": [],
   "source": [
    "import datetime\n",
    "\n",
    "\n",
    "class Osoba:\n",
    "    def __init__(self, name, last_name, birth_year):\n",
    "        self.name = name\n",
    "        self.last_name = last_name\n",
    "        self.birth_year = birth_year\n",
    "    \n",
    "    @property\n",
    "    def age(self):\n",
    "        current_year = datetime.datetime.now().year\n",
    "        return current_year - self.birth_year\n",
    "    \n",
    "    def info(self):\n",
    "        return f\"(self.name){self.last_name}({self.age})\"\n",
    "    "
   ]
  },
  {
   "cell_type": "markdown",
   "metadata": {},
   "source": [
    "### zad 10. \n",
    "\n",
    "Zdefiniuj klasę Student, która będzie dziedziczyć po klasie Osoba. Student w czasie tworzenia wymaga podania dodatkowego atrybutu - kierunek. W metodzie info należy rozszerzyć działanie metody info z klasy rodzica. Nie należy jednak całkowicie jej nadpisywać\n",
    "\n",
    "    student = Student(\"Johny\", \"Bravo\", 2000, \"physics\")\n",
    "    assert osoba.age == 20\n",
    "    assert osoba.info == \"Johny Bravo (20) - physics\""
   ]
  },
  {
   "cell_type": "code",
   "execution_count": null,
   "metadata": {},
   "outputs": [],
   "source": []
  },
  {
   "cell_type": "code",
   "execution_count": null,
   "metadata": {},
   "outputs": [],
   "source": []
  }
 ],
 "metadata": {
  "kernelspec": {
   "display_name": "Python 3",
   "language": "python",
   "name": "python3"
  },
  "language_info": {
   "codemirror_mode": {
    "name": "ipython",
    "version": 3
   },
   "file_extension": ".py",
   "mimetype": "text/x-python",
   "name": "python",
   "nbconvert_exporter": "python",
   "pygments_lexer": "ipython3",
   "version": "3.8.2"
  }
 },
 "nbformat": 4,
 "nbformat_minor": 4
}
